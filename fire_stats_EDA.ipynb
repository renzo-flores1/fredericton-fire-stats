{
 "cells": [
  {
   "cell_type": "code",
   "execution_count": 26,
   "id": "0f3d25fc",
   "metadata": {},
   "outputs": [
    {
     "data": {
      "text/html": [
       "<div>\n",
       "<style scoped>\n",
       "    .dataframe tbody tr th:only-of-type {\n",
       "        vertical-align: middle;\n",
       "    }\n",
       "\n",
       "    .dataframe tbody tr th {\n",
       "        vertical-align: top;\n",
       "    }\n",
       "\n",
       "    .dataframe thead th {\n",
       "        text-align: right;\n",
       "    }\n",
       "</style>\n",
       "<table border=\"1\" class=\"dataframe\">\n",
       "  <thead>\n",
       "    <tr style=\"text-align: right;\">\n",
       "      <th></th>\n",
       "      <th>Start_Year</th>\n",
       "      <th>Incident__</th>\n",
       "      <th>Begin_Time</th>\n",
       "      <th>Incident_Type</th>\n",
       "      <th>City</th>\n",
       "      <th>Property_Classification</th>\n",
       "      <th>Response_Type</th>\n",
       "      <th>Act_or_Omission__Cause_</th>\n",
       "      <th>Material_First_Ignited</th>\n",
       "      <th>Igniting_Object</th>\n",
       "      <th>Drive_Time</th>\n",
       "      <th>Start_Hr</th>\n",
       "      <th>First_Enroute</th>\n",
       "      <th>First_At_Scene</th>\n",
       "      <th>Under_Control</th>\n",
       "      <th>Time_UC</th>\n",
       "      <th>FID</th>\n",
       "    </tr>\n",
       "  </thead>\n",
       "  <tbody>\n",
       "    <tr>\n",
       "      <th>0</th>\n",
       "      <td>2001</td>\n",
       "      <td>671</td>\n",
       "      <td>3/10/2001 11:55:58 AM</td>\n",
       "      <td>100  Structure Fire</td>\n",
       "      <td>Fredericton</td>\n",
       "      <td>311  Dwell,year round use 1 family</td>\n",
       "      <td>10  Fire (explosion)-dollar loss</td>\n",
       "      <td>00   Cannot be Determined</td>\n",
       "      <td>00  Cannot be determined</td>\n",
       "      <td>00  Object cannot be determined</td>\n",
       "      <td>387</td>\n",
       "      <td>11</td>\n",
       "      <td>3/10/2001 11:58:19 AM</td>\n",
       "      <td>3/10/2001 12:03:11 PM</td>\n",
       "      <td>NaN</td>\n",
       "      <td>NaN</td>\n",
       "      <td>1</td>\n",
       "    </tr>\n",
       "    <tr>\n",
       "      <th>1</th>\n",
       "      <td>2001</td>\n",
       "      <td>717</td>\n",
       "      <td>3/15/2001 6:16:38 PM</td>\n",
       "      <td>100  Structure Fire</td>\n",
       "      <td>Fredericton</td>\n",
       "      <td>311  Dwell,year round use 1 family</td>\n",
       "      <td>10  Fire (explosion)-dollar loss</td>\n",
       "      <td>91  Chimney fire - masonary</td>\n",
       "      <td>92  Creosote in chimney</td>\n",
       "      <td>26  Chimney, masonry</td>\n",
       "      <td>281</td>\n",
       "      <td>18</td>\n",
       "      <td>3/15/2001 6:18:18 PM</td>\n",
       "      <td>3/15/2001 6:22:11 PM</td>\n",
       "      <td>3/15/2001 6:57:34 PM</td>\n",
       "      <td>00:35:23</td>\n",
       "      <td>2</td>\n",
       "    </tr>\n",
       "    <tr>\n",
       "      <th>2</th>\n",
       "      <td>2001</td>\n",
       "      <td>858</td>\n",
       "      <td>3/31/2001 3:56:35 PM</td>\n",
       "      <td>100  Structure Fire</td>\n",
       "      <td>McLeod Hill</td>\n",
       "      <td>799  Misc. storage, unclassified</td>\n",
       "      <td>10  Fire (explosion)-dollar loss</td>\n",
       "      <td>00   Cannot be Determined</td>\n",
       "      <td>00  Cannot be determined</td>\n",
       "      <td>00  Object cannot be determined</td>\n",
       "      <td>440</td>\n",
       "      <td>15</td>\n",
       "      <td>3/31/2001 3:59:46 PM</td>\n",
       "      <td>3/31/2001 4:06:08 PM</td>\n",
       "      <td>3/31/2001 4:21:10 PM</td>\n",
       "      <td>00:15:02</td>\n",
       "      <td>3</td>\n",
       "    </tr>\n",
       "    <tr>\n",
       "      <th>3</th>\n",
       "      <td>2001</td>\n",
       "      <td>1145</td>\n",
       "      <td>4/26/2001 4:37:17 PM</td>\n",
       "      <td>100  Structure Fire</td>\n",
       "      <td>Charters Settlement</td>\n",
       "      <td>311  Dwell,year round use 1 family</td>\n",
       "      <td>10  Fire (explosion)-dollar loss</td>\n",
       "      <td>00   Cannot be Determined</td>\n",
       "      <td>00  Cannot be determined</td>\n",
       "      <td>00  Object cannot be determined</td>\n",
       "      <td>612</td>\n",
       "      <td>16</td>\n",
       "      <td>4/26/2001 4:39:35 PM</td>\n",
       "      <td>4/26/2001 4:49:42 PM</td>\n",
       "      <td>4/26/2001 6:29:22 PM</td>\n",
       "      <td>01:39:40</td>\n",
       "      <td>4</td>\n",
       "    </tr>\n",
       "    <tr>\n",
       "      <th>4</th>\n",
       "      <td>2001</td>\n",
       "      <td>1264</td>\n",
       "      <td>5/3/2001 11:01:41 AM</td>\n",
       "      <td>100  Structure Fire</td>\n",
       "      <td>Fredericton</td>\n",
       "      <td>311  Dwell,year round use 1 family</td>\n",
       "      <td>10  Fire (explosion)-dollar loss</td>\n",
       "      <td>20  Misuse...Cannot be determined</td>\n",
       "      <td>42  Wood Shavings</td>\n",
       "      <td>98  Chemical reaction/spon comb</td>\n",
       "      <td>75</td>\n",
       "      <td>11</td>\n",
       "      <td>5/3/2001 11:03:13 AM</td>\n",
       "      <td>5/3/2001 11:04:06 AM</td>\n",
       "      <td>5/3/2001 11:15:03 AM</td>\n",
       "      <td>00:10:57</td>\n",
       "      <td>5</td>\n",
       "    </tr>\n",
       "  </tbody>\n",
       "</table>\n",
       "</div>"
      ],
      "text/plain": [
       "   Start_Year  Incident__             Begin_Time        Incident_Type  \\\n",
       "0        2001         671  3/10/2001 11:55:58 AM  100  Structure Fire   \n",
       "1        2001         717   3/15/2001 6:16:38 PM  100  Structure Fire   \n",
       "2        2001         858   3/31/2001 3:56:35 PM  100  Structure Fire   \n",
       "3        2001        1145   4/26/2001 4:37:17 PM  100  Structure Fire   \n",
       "4        2001        1264   5/3/2001 11:01:41 AM  100  Structure Fire   \n",
       "\n",
       "                  City             Property_Classification  \\\n",
       "0          Fredericton  311  Dwell,year round use 1 family   \n",
       "1          Fredericton  311  Dwell,year round use 1 family   \n",
       "2          McLeod Hill    799  Misc. storage, unclassified   \n",
       "3  Charters Settlement  311  Dwell,year round use 1 family   \n",
       "4          Fredericton  311  Dwell,year round use 1 family   \n",
       "\n",
       "                      Response_Type            Act_or_Omission__Cause_  \\\n",
       "0  10  Fire (explosion)-dollar loss          00   Cannot be Determined   \n",
       "1  10  Fire (explosion)-dollar loss        91  Chimney fire - masonary   \n",
       "2  10  Fire (explosion)-dollar loss          00   Cannot be Determined   \n",
       "3  10  Fire (explosion)-dollar loss          00   Cannot be Determined   \n",
       "4  10  Fire (explosion)-dollar loss  20  Misuse...Cannot be determined   \n",
       "\n",
       "     Material_First_Ignited                  Igniting_Object  Drive_Time  \\\n",
       "0  00  Cannot be determined  00  Object cannot be determined         387   \n",
       "1   92  Creosote in chimney             26  Chimney, masonry         281   \n",
       "2  00  Cannot be determined  00  Object cannot be determined         440   \n",
       "3  00  Cannot be determined  00  Object cannot be determined         612   \n",
       "4         42  Wood Shavings  98  Chemical reaction/spon comb          75   \n",
       "\n",
       "   Start_Hr          First_Enroute         First_At_Scene  \\\n",
       "0        11  3/10/2001 11:58:19 AM  3/10/2001 12:03:11 PM   \n",
       "1        18   3/15/2001 6:18:18 PM   3/15/2001 6:22:11 PM   \n",
       "2        15   3/31/2001 3:59:46 PM   3/31/2001 4:06:08 PM   \n",
       "3        16   4/26/2001 4:39:35 PM   4/26/2001 4:49:42 PM   \n",
       "4        11   5/3/2001 11:03:13 AM   5/3/2001 11:04:06 AM   \n",
       "\n",
       "          Under_Control   Time_UC  FID  \n",
       "0                   NaN       NaN    1  \n",
       "1  3/15/2001 6:57:34 PM  00:35:23    2  \n",
       "2  3/31/2001 4:21:10 PM  00:15:02    3  \n",
       "3  4/26/2001 6:29:22 PM  01:39:40    4  \n",
       "4  5/3/2001 11:15:03 AM  00:10:57    5  "
      ]
     },
     "execution_count": 26,
     "metadata": {},
     "output_type": "execute_result"
    }
   ],
   "source": [
    "import matplotlib.pyplot as plt\n",
    "import numpy as np\n",
    "import pandas as pd\n",
    "import seaborn as sns\n",
    "\n",
    "# read file\n",
    "file_path = \"data/Structure_Fire_Stats_2000_June2024.csv\"\n",
    "df = pd.read_csv(file_path)\n",
    "\n",
    "# check dataframe\n",
    "df.head(5)"
   ]
  },
  {
   "cell_type": "code",
   "execution_count": 31,
   "id": "b77005f6",
   "metadata": {},
   "outputs": [
    {
     "data": {
      "text/html": [
       "<div>\n",
       "<style scoped>\n",
       "    .dataframe tbody tr th:only-of-type {\n",
       "        vertical-align: middle;\n",
       "    }\n",
       "\n",
       "    .dataframe tbody tr th {\n",
       "        vertical-align: top;\n",
       "    }\n",
       "\n",
       "    .dataframe thead th {\n",
       "        text-align: right;\n",
       "    }\n",
       "</style>\n",
       "<table border=\"1\" class=\"dataframe\">\n",
       "  <thead>\n",
       "    <tr style=\"text-align: right;\">\n",
       "      <th></th>\n",
       "      <th>Start_Year</th>\n",
       "      <th>Incident__</th>\n",
       "      <th>Begin_Time</th>\n",
       "      <th>Incident_Type</th>\n",
       "      <th>City</th>\n",
       "      <th>Property_Classification</th>\n",
       "      <th>Response_Type</th>\n",
       "      <th>Act_or_Omission__Cause_</th>\n",
       "      <th>Material_First_Ignited</th>\n",
       "      <th>Igniting_Object</th>\n",
       "      <th>Drive_Time</th>\n",
       "      <th>Start_Hr</th>\n",
       "      <th>First_Enroute</th>\n",
       "      <th>First_At_Scene</th>\n",
       "      <th>Under_Control</th>\n",
       "      <th>Time_UC</th>\n",
       "      <th>FID</th>\n",
       "    </tr>\n",
       "  </thead>\n",
       "  <tbody>\n",
       "    <tr>\n",
       "      <th>706</th>\n",
       "      <td>2018</td>\n",
       "      <td>4248</td>\n",
       "      <td>12/12/2018 8:37:31 PM</td>\n",
       "      <td>100  Structure Fire</td>\n",
       "      <td>Fredericton</td>\n",
       "      <td>229  Home for the aged</td>\n",
       "      <td>10  Fire (explosion)-dollar loss</td>\n",
       "      <td>780  Distracted / preoccupied</td>\n",
       "      <td>56  Oil cooking/lard/grease/butter</td>\n",
       "      <td>020  Stove top, fire in pan</td>\n",
       "      <td>409</td>\n",
       "      <td>20</td>\n",
       "      <td>12/12/2018 8:39:57 PM</td>\n",
       "      <td>12/12/2018 8:45:47 PM</td>\n",
       "      <td>12/12/2018 9:17:40 PM</td>\n",
       "      <td>00:31:53</td>\n",
       "      <td>707</td>\n",
       "    </tr>\n",
       "    <tr>\n",
       "      <th>707</th>\n",
       "      <td>2018</td>\n",
       "      <td>4424</td>\n",
       "      <td>12/30/2018 8:18:18 PM</td>\n",
       "      <td>100  Structure Fire</td>\n",
       "      <td>Fredericton</td>\n",
       "      <td>689  Vehicles and related equip</td>\n",
       "      <td>10  Fire (explosion)-dollar loss</td>\n",
       "      <td>310  Fuel spilled accidentally</td>\n",
       "      <td>51  Gasoline</td>\n",
       "      <td>620  Motor, electric, under 1 hp</td>\n",
       "      <td>169</td>\n",
       "      <td>20</td>\n",
       "      <td>12/30/2018 8:20:31 PM</td>\n",
       "      <td>12/30/2018 8:22:38 PM</td>\n",
       "      <td>12/30/2018 8:42:00 PM</td>\n",
       "      <td>00:19:22</td>\n",
       "      <td>708</td>\n",
       "    </tr>\n",
       "    <tr>\n",
       "      <th>708</th>\n",
       "      <td>2019</td>\n",
       "      <td>337</td>\n",
       "      <td>2/2/2019 8:39:50 PM</td>\n",
       "      <td>100  Structure Fire</td>\n",
       "      <td>Fredericton</td>\n",
       "      <td>311  Dwell,year round use 1 family</td>\n",
       "      <td>10  Fire (explosion)-dollar loss</td>\n",
       "      <td>770 Ignorance of Hazard</td>\n",
       "      <td>04  Ext trim, inc. door,porch</td>\n",
       "      <td>780  Hot ashes, embers/not from cig</td>\n",
       "      <td>161</td>\n",
       "      <td>20</td>\n",
       "      <td>2/2/2019 8:41:02 PM</td>\n",
       "      <td>2/2/2019 8:43:17 PM</td>\n",
       "      <td>2/2/2019 9:02:01 PM</td>\n",
       "      <td>00:18:44</td>\n",
       "      <td>709</td>\n",
       "    </tr>\n",
       "    <tr>\n",
       "      <th>709</th>\n",
       "      <td>2019</td>\n",
       "      <td>357</td>\n",
       "      <td>2/4/2019 6:40:44 PM</td>\n",
       "      <td>100  Structure Fire</td>\n",
       "      <td>Fredericton</td>\n",
       "      <td>324  Apt,twnhouse 3-20 w/o busines</td>\n",
       "      <td>10  Fire (explosion)-dollar loss</td>\n",
       "      <td>360  Overheated cooking oil, grease</td>\n",
       "      <td>56  Oil cooking/lard/grease/butter</td>\n",
       "      <td>020  Stove top, fire in pan</td>\n",
       "      <td>318</td>\n",
       "      <td>18</td>\n",
       "      <td>2/4/2019 6:42:46 PM</td>\n",
       "      <td>2/4/2019 6:47:38 PM</td>\n",
       "      <td>2/4/2019 8:05:27 PM</td>\n",
       "      <td>01:17:49</td>\n",
       "      <td>710</td>\n",
       "    </tr>\n",
       "    <tr>\n",
       "      <th>710</th>\n",
       "      <td>2019</td>\n",
       "      <td>559</td>\n",
       "      <td>2/23/2019 11:32:46 AM</td>\n",
       "      <td>100  Structure Fire</td>\n",
       "      <td>Fredericton</td>\n",
       "      <td>311  Dwell,year round use 1 family</td>\n",
       "      <td>10  Fire (explosion)-dollar loss</td>\n",
       "      <td>370  Combustibles too near the heat</td>\n",
       "      <td>25  Mattress/pillow</td>\n",
       "      <td>290  Other than listed</td>\n",
       "      <td>358</td>\n",
       "      <td>11</td>\n",
       "      <td>2/23/2019 11:34:23 AM</td>\n",
       "      <td>2/23/2019 11:40:01 AM</td>\n",
       "      <td>2/23/2019 12:26:08 PM</td>\n",
       "      <td>00:46:07</td>\n",
       "      <td>711</td>\n",
       "    </tr>\n",
       "  </tbody>\n",
       "</table>\n",
       "</div>"
      ],
      "text/plain": [
       "     Start_Year  Incident__             Begin_Time        Incident_Type  \\\n",
       "706        2018        4248  12/12/2018 8:37:31 PM  100  Structure Fire   \n",
       "707        2018        4424  12/30/2018 8:18:18 PM  100  Structure Fire   \n",
       "708        2019         337    2/2/2019 8:39:50 PM  100  Structure Fire   \n",
       "709        2019         357    2/4/2019 6:40:44 PM  100  Structure Fire   \n",
       "710        2019         559  2/23/2019 11:32:46 AM  100  Structure Fire   \n",
       "\n",
       "            City             Property_Classification  \\\n",
       "706  Fredericton              229  Home for the aged   \n",
       "707  Fredericton     689  Vehicles and related equip   \n",
       "708  Fredericton  311  Dwell,year round use 1 family   \n",
       "709  Fredericton  324  Apt,twnhouse 3-20 w/o busines   \n",
       "710  Fredericton  311  Dwell,year round use 1 family   \n",
       "\n",
       "                        Response_Type              Act_or_Omission__Cause_  \\\n",
       "706  10  Fire (explosion)-dollar loss        780  Distracted / preoccupied   \n",
       "707  10  Fire (explosion)-dollar loss       310  Fuel spilled accidentally   \n",
       "708  10  Fire (explosion)-dollar loss              770 Ignorance of Hazard   \n",
       "709  10  Fire (explosion)-dollar loss  360  Overheated cooking oil, grease   \n",
       "710  10  Fire (explosion)-dollar loss  370  Combustibles too near the heat   \n",
       "\n",
       "                 Material_First_Ignited                      Igniting_Object  \\\n",
       "706  56  Oil cooking/lard/grease/butter          020  Stove top, fire in pan   \n",
       "707                        51  Gasoline     620  Motor, electric, under 1 hp   \n",
       "708       04  Ext trim, inc. door,porch  780  Hot ashes, embers/not from cig   \n",
       "709  56  Oil cooking/lard/grease/butter          020  Stove top, fire in pan   \n",
       "710                 25  Mattress/pillow               290  Other than listed   \n",
       "\n",
       "     Drive_Time  Start_Hr          First_Enroute         First_At_Scene  \\\n",
       "706         409        20  12/12/2018 8:39:57 PM  12/12/2018 8:45:47 PM   \n",
       "707         169        20  12/30/2018 8:20:31 PM  12/30/2018 8:22:38 PM   \n",
       "708         161        20    2/2/2019 8:41:02 PM    2/2/2019 8:43:17 PM   \n",
       "709         318        18    2/4/2019 6:42:46 PM    2/4/2019 6:47:38 PM   \n",
       "710         358        11  2/23/2019 11:34:23 AM  2/23/2019 11:40:01 AM   \n",
       "\n",
       "             Under_Control   Time_UC  FID  \n",
       "706  12/12/2018 9:17:40 PM  00:31:53  707  \n",
       "707  12/30/2018 8:42:00 PM  00:19:22  708  \n",
       "708    2/2/2019 9:02:01 PM  00:18:44  709  \n",
       "709    2/4/2019 8:05:27 PM  01:17:49  710  \n",
       "710  2/23/2019 12:26:08 PM  00:46:07  711  "
      ]
     },
     "execution_count": 31,
     "metadata": {},
     "output_type": "execute_result"
    }
   ],
   "source": [
    "df.tail(5)"
   ]
  },
  {
   "cell_type": "code",
   "execution_count": 27,
   "id": "4b16eb1b",
   "metadata": {},
   "outputs": [
    {
     "name": "stdout",
     "output_type": "stream",
     "text": [
      "<class 'pandas.core.frame.DataFrame'>\n",
      "RangeIndex: 711 entries, 0 to 710\n",
      "Data columns (total 17 columns):\n",
      " #   Column                   Non-Null Count  Dtype \n",
      "---  ------                   --------------  ----- \n",
      " 0   Start_Year               711 non-null    int64 \n",
      " 1   Incident__               711 non-null    int64 \n",
      " 2   Begin_Time               711 non-null    object\n",
      " 3   Incident_Type            711 non-null    object\n",
      " 4   City                     711 non-null    object\n",
      " 5   Property_Classification  711 non-null    object\n",
      " 6   Response_Type            711 non-null    object\n",
      " 7   Act_or_Omission__Cause_  685 non-null    object\n",
      " 8   Material_First_Ignited   666 non-null    object\n",
      " 9   Igniting_Object          669 non-null    object\n",
      " 10  Drive_Time               711 non-null    int64 \n",
      " 11  Start_Hr                 711 non-null    int64 \n",
      " 12  First_Enroute            700 non-null    object\n",
      " 13  First_At_Scene           697 non-null    object\n",
      " 14  Under_Control            602 non-null    object\n",
      " 15  Time_UC                  611 non-null    object\n",
      " 16  FID                      711 non-null    int64 \n",
      "dtypes: int64(5), object(12)\n",
      "memory usage: 94.6+ KB\n"
     ]
    }
   ],
   "source": [
    "df.info()"
   ]
  },
  {
   "cell_type": "code",
   "execution_count": 28,
   "id": "ca465aa2",
   "metadata": {},
   "outputs": [
    {
     "data": {
      "text/plain": [
       "np.int64(0)"
      ]
     },
     "execution_count": 28,
     "metadata": {},
     "output_type": "execute_result"
    }
   ],
   "source": [
    "df.duplicated().sum()"
   ]
  },
  {
   "cell_type": "code",
   "execution_count": 4,
   "id": "9d45c94c",
   "metadata": {},
   "outputs": [
    {
     "data": {
      "text/plain": [
       "array([2001, 2002, 2000, 2005, 2006, 2007, 2008, 2009, 2010, 2011, 2012,\n",
       "       2003, 2004, 2015, 2019, 2016, 2017, 2013, 2014, 2020, 2021, 2022,\n",
       "       2023, 2024, 2018])"
      ]
     },
     "execution_count": 4,
     "metadata": {},
     "output_type": "execute_result"
    },
    {
     "data": {
      "image/png": "[encoded data removed]",
      "text/plain": [
       "<Figure size 640x480 with 1 Axes>"
      ]
     },
     "metadata": {},
     "output_type": "display_data"
    }
   ],
   "source": [
    "# Let us first look at the number of incidents by year\n",
    "sns.histplot(data=df, y=\"Start_Year\")\n",
    "\n",
    "# print unique years\n",
    "df[\"Start_Year\"].unique()"
   ]
  },
  {
   "cell_type": "code",
   "execution_count": 7,
   "id": "1e038df2",
   "metadata": {},
   "outputs": [
    {
     "data": {
      "text/plain": [
       "<Axes: xlabel='Count', ylabel='Incident_Type'>"
      ]
     },
     "execution_count": 7,
     "metadata": {},
     "output_type": "execute_result"
    },
    {
     "data": {
      "image/png": "[encoded data removed]",
      "text/plain": [
       "<Figure size 640x480 with 1 Axes>"
      ]
     },
     "metadata": {},
     "output_type": "display_data"
    }
   ],
   "source": [
    "# now let's look at incident type\n",
    "sns.histplot(data=df, y=\"Incident_Type\")"
   ]
  },
  {
   "cell_type": "markdown",
   "id": "42a0ad9e",
   "metadata": {},
   "source": [
    "There seems to be only one kind of incident. Let's check."
   ]
  },
  {
   "cell_type": "code",
   "execution_count": 8,
   "id": "07359f06",
   "metadata": {},
   "outputs": [
    {
     "data": {
      "text/plain": [
       "array(['100  Structure Fire'], dtype=object)"
      ]
     },
     "execution_count": 8,
     "metadata": {},
     "output_type": "execute_result"
    }
   ],
   "source": [
    "df[\"Incident_Type\"].unique()"
   ]
  },
  {
   "cell_type": "code",
   "execution_count": 25,
   "id": "5b4bd82d",
   "metadata": {},
   "outputs": [
    {
     "data": {
      "text/plain": [
       "<Axes: xlabel='Count', ylabel='City'>"
      ]
     },
     "execution_count": 25,
     "metadata": {},
     "output_type": "execute_result"
    },
    {
     "data": {
      "image/png": "[encoded data removed]",
      "text/plain": [
       "<Figure size 640x480 with 1 Axes>"
      ]
     },
     "metadata": {},
     "output_type": "display_data"
    }
   ],
   "source": [
    "value_counts = df[\"City\"].value_counts()\n",
    "to_drop = value_counts[value_counts < 5].index\n",
    "df_filtered = df[~df[\"City\"].isin(to_drop)].copy()\n",
    "\n",
    "sns.histplot(data=df_filtered, y=\"City\")"
   ]
  },
  {
   "cell_type": "code",
   "execution_count": 5,
   "id": "0d3a9008",
   "metadata": {},
   "outputs": [
    {
     "name": "stderr",
     "output_type": "stream",
     "text": [
      "/var/folders/89/5rq5rcrx3nx_190mk61bc98h0000gn/T/ipykernel_736/439002973.py:2: UserWarning: Could not infer format, so each element will be parsed individually, falling back to `dateutil`. To ensure parsing is consistent and as-expected, please specify a format.\n",
      "  df[\"Under_Control\"] = pd.to_datetime(df[\"Under_Control\"])\n"
     ]
    }
   ],
   "source": [
    "df[\"Begin_Time\"] = pd.to_datetime(df[\"Begin_Time\"])\n",
    "df[\"Under_Control\"] = pd.to_datetime(df[\"Under_Control\"])\n",
    "df[\"First_At_Scene\"] = pd.to_datetime(df[\"First_At_Scene\"])"
   ]
  },
  {
   "cell_type": "code",
   "execution_count": 20,
   "id": "74b758af",
   "metadata": {},
   "outputs": [
    {
     "data": {
      "text/plain": [
       "<Axes: xlabel='Count', ylabel='Begin_Hour_Descriptive'>"
      ]
     },
     "execution_count": 20,
     "metadata": {},
     "output_type": "execute_result"
    },
    {
     "data": {
      "image/png": "[encoded data removed]",
      "text/plain": [
       "<Figure size 640x480 with 1 Axes>"
      ]
     },
     "metadata": {},
     "output_type": "display_data"
    }
   ],
   "source": [
    "# What time do these fires often occur?\n",
    "\n",
    "hour_bins = {0: \"early night\", 3: \"deep night\", 6: \"early morning\", \n",
    "             9: \"late morning\", 12: \"early afternoon\", 15: \"late afternoon\",\n",
    "             18: \"early evening\", 21: \"late evening\"}\n",
    "\n",
    "hour_bounds = list(hour_bins.keys())\n",
    "\n",
    "def descriptive_hour(x):\n",
    "    for (left_bound, right_bound) in zip(hour_bounds[:-1], hour_bounds[1:]):\n",
    "        if left_bound <= x.hour < right_bound:\n",
    "            return hour_bins[left_bound]\n",
    "\n",
    "df[\"Begin_Hour_Descriptive\"] = df[\"Begin_Time\"].map(lambda x: descriptive_hour(x))\n",
    "\n",
    "sns.histplot(data=df, y=\"Begin_Hour_Descriptive\")"
   ]
  },
  {
   "cell_type": "code",
   "execution_count": 25,
   "id": "7d533726",
   "metadata": {},
   "outputs": [
    {
     "data": {
      "text/plain": [
       "<Axes: xlabel='Count', ylabel='Season'>"
      ]
     },
     "execution_count": 25,
     "metadata": {},
     "output_type": "execute_result"
    },
    {
     "data": {
      "image/png": "[encoded data removed]",
      "text/plain": [
       "<Figure size 640x480 with 1 Axes>"
      ]
     },
     "metadata": {},
     "output_type": "display_data"
    }
   ],
   "source": [
    "def get_season(month: int) -> str:\n",
    "    \"\"\"\n",
    "    Returns the season based on the month number.\n",
    "\n",
    "    Args:\n",
    "        month: An integer representing the month (1 for January, 12 for December).\n",
    "\n",
    "    Returns:\n",
    "        A string representing the season (Winter, Spring, Summer, Fall).\n",
    "    \"\"\"\n",
    "    if month in [12, 1, 2]:\n",
    "        return \"Winter\"\n",
    "    elif 3 <= month <= 5:\n",
    "        return \"Spring\"\n",
    "    elif 6 <= month <= 8:\n",
    "        return \"Summer\"\n",
    "    elif 9 <= month <= 11:\n",
    "        return \"Fall\"\n",
    "    else:\n",
    "        return \"Invalid month\"\n",
    "\n",
    "df[\"Season\"] = df[\"Begin_Time\"].map(lambda x: get_season(x.month))\n",
    "\n",
    "sns.histplot(data=df, y=\"Season\")"
   ]
  },
  {
   "cell_type": "code",
   "execution_count": 38,
   "id": "09ecf556",
   "metadata": {},
   "outputs": [
    {
     "data": {
      "text/plain": [
       "[('00', 'Cannot be Determined'),\n",
       " ('91', 'Chimney fire - masonary'),\n",
       " ('20', 'Misuse...Cannot be determined'),\n",
       " ('11', 'Incendiary fire'),\n",
       " ('42', 'Automatic control failure'),\n",
       " ('21', 'Smokers material'),\n",
       " ('74', 'Accident'),\n",
       " ('13', 'Suspicious'),\n",
       " ('78', 'Distracted / preoccupied'),\n",
       " ('43', 'Manual control failure'),\n",
       " ('75', 'Impaired by drugs/alcohol/med'),\n",
       " ('53', 'Installed to close to combustib'),\n",
       " ('36', 'Overheated cooking oil, grease'),\n",
       " ('10', 'Cannot be determined'),\n",
       " ('72', 'Temporary loss of judgement'),\n",
       " ('44', 'Electric short circuit'),\n",
       " ('37', 'Combustibles too near the heat'),\n",
       " ('49', 'Mech/elec failure unclassified'),\n",
       " ('14', 'Suspicious - young offender'),\n",
       " ('92', 'Chimney fire - factory built'),\n",
       " ('70', 'Human Failing cannot be determi'),\n",
       " ('12', 'Incendiary fire, young offender'),\n",
       " ('40', 'Mech...cannot be determined'),\n",
       " ('31', 'Fuel spilled accidentally'),\n",
       " ('25', 'Welding/cutting too close to'),\n",
       " ('51', 'Deficiency, design'),\n",
       " ('99', 'Misc - unclassified'),\n",
       " ('23', 'Inadequate control/open flame'),\n",
       " ('45', 'Lack of Maintenance'),\n",
       " ('52', 'Deficiency, construction'),\n",
       " ('35', 'Improper container'),\n",
       " ('54', 'Installation deficiency'),\n",
       " ('46', 'Part worn out'),\n",
       " ('24', 'Child playing with...'),\n",
       " ('22', 'Thawing'),\n",
       " ('41', 'Part failure /break/leak'),\n",
       " ('26', 'Torch too close to'),\n",
       " ('780', 'Distracted / preoccupied'),\n",
       " ('79', 'Failing - unclassified'),\n",
       " ('33', 'Flam liquid to kindle fire'),\n",
       " ('000', 'Cannot be Determined'),\n",
       " ('920', 'Chimney fire - factory built'),\n",
       " ('370', 'Combustibles too near the heat'),\n",
       " ('230', 'Inadequate control/open flame'),\n",
       " ('910', 'Chimney fire - masonary'),\n",
       " ('740', 'Accident'),\n",
       " ('110', 'Incendiary fire'),\n",
       " ('490', 'Mech/elec failure unclassified'),\n",
       " ('190', 'Unclassified'),\n",
       " ('690', 'Misuse of equip, unclassified'),\n",
       " ('210', 'Smokers material'),\n",
       " ('360', 'Overheated cooking oil, grease'),\n",
       " ('71', 'Asleep'),\n",
       " ('29', 'Misuse, source unclassified'),\n",
       " ('39', 'Misuse, Unclassified'),\n",
       " ('570', 'Suspect faulty copper wiring'),\n",
       " ('770', 'Ignorance of Hazard'),\n",
       " ('440', 'Electric short circuit'),\n",
       " ('260', 'Torch too close to'),\n",
       " ('720', 'Temporary loss of judgement'),\n",
       " ('130', 'Suspicious'),\n",
       " ('520', 'Deficiency, construction'),\n",
       " ('530', 'Installed to close to combusti'),\n",
       " ('540', 'Installation deficiency'),\n",
       " ('120', 'Incendiary fire, young offende'),\n",
       " ('380', 'Improper storage'),\n",
       " ('410', 'Part failure /break/leak'),\n",
       " ('400', 'Mech...cannot be determined'),\n",
       " ('250', 'Welding/cutting too close to'),\n",
       " ('730', 'Mental/physical disability'),\n",
       " ('240', 'Child playing with...'),\n",
       " ('710', 'Asleep'),\n",
       " ('460', 'Part worn out'),\n",
       " ('200', 'Misuse...Cannot be determined'),\n",
       " ('990', 'Misc - unclassified'),\n",
       " ('760', 'Asleep by drugs/alcohol/medic'),\n",
       " ('750', 'Impaired by drugs/alcohol/med'),\n",
       " ('700', 'Human Failing cannot be determ'),\n",
       " ('100', 'Cannot be determined'),\n",
       " ('590', 'Deficiency, unclassified'),\n",
       " ('340', 'Cleaning/washing parts'),\n",
       " ('450', 'Lack of Maintenance'),\n",
       " ('220', 'Thawing'),\n",
       " ('290', 'Misuse, source unclassified'),\n",
       " ('350', 'Improper container'),\n",
       " ('310', 'Fuel spilled accidentally'),\n",
       " ('790', 'Failing - unclassified'),\n",
       " ('420', 'Automatic control failure'),\n",
       " ('510', 'Deficiency, design')]"
      ]
     },
     "execution_count": 38,
     "metadata": {},
     "output_type": "execute_result"
    }
   ],
   "source": [
    "cause = list(df[\"Act_or_Omission__Cause_\"].dropna().unique())\n",
    "cause = [(c.split()[0], \" \".join(c.split()[1:])) for c in cause]\n",
    "cause"
   ]
  },
  {
   "cell_type": "code",
   "execution_count": 39,
   "id": "47dc1167",
   "metadata": {},
   "outputs": [
    {
     "data": {
      "text/plain": [
       "[('00', 'Object cannot be determined'),\n",
       " ('26', 'Chimney, masonry'),\n",
       " ('98', 'Chemical reaction/spon comb'),\n",
       " ('16', 'Toaster, waffle iron'),\n",
       " ('71', \"Smoker's mat/cigarettes/match\"),\n",
       " ('99', 'Igniting Object,unclassified'),\n",
       " ('49', 'Appliance unclassified'),\n",
       " ('04', 'Stove top (other circumstnces'),\n",
       " ('65', 'Lighting fixture, incandescen'),\n",
       " ('02', 'Stove top, fire in pan'),\n",
       " ('77', 'Torch other than cut/welding'),\n",
       " ('29', 'Other than listed'),\n",
       " ('55', 'Electric receptacle/switch'),\n",
       " ('79', \"Smoker mat'l/Open flame unclass\"),\n",
       " ('21', 'Heating equipment, central'),\n",
       " ('54', 'Panel, electric/fuse/breaker'),\n",
       " ('28', 'Chimney, factory-built, metal'),\n",
       " ('05', 'Oven of stove, range'),\n",
       " ('27', 'Flue pipe, vent connector'),\n",
       " ('73', 'Lighter(not in conj. w/smoking)'),\n",
       " ('24', 'Space heater (Portable)'),\n",
       " ('33', 'Clothes dryer'),\n",
       " ('23', 'Space heater/wall furn/unit h'),\n",
       " ('76', 'Cutting torch/welding equipment'),\n",
       " ('56', 'Cable, electric, temporary'),\n",
       " ('51', 'Wiring, permanent'),\n",
       " ('75', 'Candle, taper'),\n",
       " ('69', 'Other Electrical, Unclassified'),\n",
       " ('78', 'Hot ashes, embers/not from cigg'),\n",
       " ('72', 'Match(not in conj. w/smoking)'),\n",
       " ('99', 'Ignighting Object, Unclassified'),\n",
       " ('01', 'No Igniting Object'),\n",
       " ('91', 'Industrial furnace,heat treat'),\n",
       " ('37', 'Refrigerator/freezer'),\n",
       " ('03', 'Stove top (fire in deep fryer'),\n",
       " ('45', 'Heat Tape'),\n",
       " ('66', 'Lighting fixture, fluorescent'),\n",
       " ('07', 'Fryer, deep fat'),\n",
       " ('62', 'Motor, electric, under 1 hp'),\n",
       " ('270', 'Flue pipe, vent connector'),\n",
       " ('650', 'Lighting fixture, incandescen'),\n",
       " ('020', 'Stove top, fire in pan'),\n",
       " ('770', 'Torch other than cut/welding'),\n",
       " ('780', 'Hot ashes, embers/not from cig'),\n",
       " ('000', 'Object cannot be determined'),\n",
       " ('790', \"Smoker mat'l/Open flame unclas\"),\n",
       " ('510', 'Wiring, permanent'),\n",
       " ('710', \"Smoker's mat/cigarettes/match\"),\n",
       " ('040', 'Stove top (other circumstnces'),\n",
       " ('750', 'Candle, taper'),\n",
       " ('990', 'Igniting Object,unclassified'),\n",
       " ('560', 'Cable, electric, temporary'),\n",
       " ('230', 'Space heater/wall furn/unit h'),\n",
       " ('93', 'Lightning'),\n",
       " ('12', 'Other cooking unit/portable'),\n",
       " ('97', 'Machinery,Industrial/Commercial'),\n",
       " ('89', 'Exposure, unspecified'),\n",
       " ('59', 'Elec dstrbt equip-unclas(spcf'),\n",
       " ('711', 'Cigarette'),\n",
       " ('240', 'Space heater (Portable)'),\n",
       " ('717', 'Lighter'),\n",
       " ('280', 'Chimney, factory-built, metal'),\n",
       " ('550', 'Electric receptacle/switch'),\n",
       " ('260', 'Chimney, masonry'),\n",
       " ('760', 'Cutting torch/welding equipmen'),\n",
       " ('210', 'Heating equipment, central'),\n",
       " ('730', 'Lighter(not in conj. w/smoking'),\n",
       " ('540', 'Panel, electric/fuse/breaker'),\n",
       " ('690', 'Other Electrical, Unclassified'),\n",
       " ('716', 'cannot be determined'),\n",
       " ('910', 'Heat Treatment Equipment'),\n",
       " ('330', 'Clothes dryer'),\n",
       " ('900', 'Engine, internal combustion'),\n",
       " ('980', 'Chemical reaction/spon comb'),\n",
       " ('970', 'Equipment,commercial & indust'),\n",
       " ('712', 'Pipe (contents)'),\n",
       " ('070', 'Fryer, deep fat'),\n",
       " ('120', 'Other cooking unit/portable'),\n",
       " ('140', 'Broiler, portable, barbeque'),\n",
       " ('250', 'Fireplace'),\n",
       " ('160', 'Toaster, waffle iron'),\n",
       " ('620', 'Motor, electric, under 1 hp'),\n",
       " ('050', 'Oven of stove, range'),\n",
       " ('740', 'Lamp, lantern'),\n",
       " ('490', 'Appliance unclassified'),\n",
       " ('290', 'Other than listed'),\n",
       " ('990', 'Ignighting Object, Unclassifie'),\n",
       " ('940', 'Explosives'),\n",
       " ('590', 'Elec dstrbt equip-unclas(spcf'),\n",
       " ('494', 'Vacuum Cleaner'),\n",
       " ('714', 'Ashtray (contents)'),\n",
       " ('660', 'Lighting fixture, fluorescent'),\n",
       " ('390', 'Portable generator')]"
      ]
     },
     "execution_count": 39,
     "metadata": {},
     "output_type": "execute_result"
    }
   ],
   "source": [
    "igniting_object = list(df[\"Igniting_Object\"].dropna().unique())\n",
    "igniting_object = [(c.split()[0], \" \".join(c.split()[1:])) for c in igniting_object]\n",
    "igniting_object"
   ]
  }
 ],
 "metadata": {
  "kernelspec": {
   "display_name": "Python 3",
   "language": "python",
   "name": "python3"
  },
  "language_info": {
   "codemirror_mode": {
    "name": "ipython",
    "version": 3
   },
   "file_extension": ".py",
   "mimetype": "text/x-python",
   "name": "python",
   "nbconvert_exporter": "python",
   "pygments_lexer": "ipython3",
   "version": "3.12.5"
  }
 },
 "nbformat": 4,
 "nbformat_minor": 5
}
